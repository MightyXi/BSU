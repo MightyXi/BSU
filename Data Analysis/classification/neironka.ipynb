{
 "cells": [
  {
   "cell_type": "code",
   "execution_count": 34,
   "id": "33961e52-938e-45fd-9309-5fdcc68b83df",
   "metadata": {
    "tags": []
   },
   "outputs": [
    {
     "name": "stdout",
     "output_type": "stream",
     "text": [
      "0.8113207547169812\n"
     ]
    },
    {
     "data": {
      "text/plain": [
       "array([[14, 19],\n",
       "       [ 1, 72]], dtype=int64)"
      ]
     },
     "execution_count": 34,
     "metadata": {},
     "output_type": "execute_result"
    }
   ],
   "source": [
    "import seaborn as sns\n",
    "import matplotlib.pyplot as plt\n",
    "import pandas as pd\n",
    "from sklearn.model_selection import train_test_split\n",
    "from sklearn.metrics import accuracy_score\n",
    "from sklearn.metrics import confusion_matrix\n",
    "\n",
    "df = pd.read_csv('train_u6lujuX_CVtuZ9i.csv')\n",
    "df = df.drop(columns=['Loan_ID'])\n",
    "df = pd.get_dummies(df,drop_first=True)\n",
    "df.dropna()\n",
    "df = df.dropna(how='any',axis=0)\n",
    "X = df.drop(columns='Loan_Status_Y')\n",
    "y = df['Loan_Status_Y']\n",
    "\n",
    "from sklearn.preprocessing import StandardScaler\n",
    "standardScalerX = StandardScaler()\n",
    "X = standardScalerX.fit_transform(X)\n",
    "\n",
    "X_train,X_test,y_train,y_test = train_test_split(X,y,test_size=0.2,stratify =y,random_state =42)\n",
    "from sklearn.neural_network import MLPClassifier\n",
    "\n",
    "clf = MLPClassifier(hidden_layer_sizes=(25),max_iter=600,\n",
    "                     solver='sgd',  random_state=42)\n",
    "clf.fit(X_train, y_train)\n",
    "y_pred = clf.predict(X_test)\n",
    "print(accuracy_score(y_test, y_pred))\n",
    "\n",
    "cm = confusion_matrix(y_test, y_pred)\n",
    "cm"
   ]
  },
  {
   "cell_type": "code",
   "execution_count": null,
   "id": "c4d81fe7-6294-4e61-b651-92177acd4c1a",
   "metadata": {},
   "outputs": [],
   "source": []
  },
  {
   "cell_type": "code",
   "execution_count": null,
   "id": "6bc22fb2-a33b-4903-a659-1de4b4dc8ba5",
   "metadata": {},
   "outputs": [],
   "source": []
  }
 ],
 "metadata": {
  "kernelspec": {
   "display_name": "Python 3 (ipykernel)",
   "language": "python",
   "name": "python3"
  },
  "language_info": {
   "codemirror_mode": {
    "name": "ipython",
    "version": 3
   },
   "file_extension": ".py",
   "mimetype": "text/x-python",
   "name": "python",
   "nbconvert_exporter": "python",
   "pygments_lexer": "ipython3",
   "version": "3.11.4"
  }
 },
 "nbformat": 4,
 "nbformat_minor": 5
}
